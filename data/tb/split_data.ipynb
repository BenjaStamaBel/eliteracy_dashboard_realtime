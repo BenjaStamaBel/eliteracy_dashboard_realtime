{
 "cells": [
  {
   "cell_type": "code",
   "execution_count": 20,
   "id": "c98bf9d6-386c-45b9-899d-636218ce48f9",
   "metadata": {},
   "outputs": [],
   "source": [
    "import pandas as pd\n",
    "import numpy as np\n",
    "zones = ['N1AU401', 'N1AU402', 'N1AU403', 'N1AU404', 'N2AU101', 'N2AU102', 'N2AU103', 'N2AU201', 'N2AU202', 'N2AU203', 'PBADM', 'PBCOORCOFI', 'PBCOORDINACION', 'PBSJUNTAS', 'PBSMAESTROS', 'PBVESTIBULO', 'N1LAB', 'N2LAB1', 'N2LAB2', 'PBCAFE']\n",
    "type = ['elec','water']\n"
   ]
  },
  {
   "cell_type": "code",
   "execution_count": 16,
   "id": "26cb5039-c69d-433b-b876-67e845ff25c7",
   "metadata": {},
   "outputs": [],
   "source": [
    "comfort = pd.read_csv('comfort_data.csv')\n",
    "aquality = pd.read_csv('ambient_quality_data.csv')\n",
    "building = pd.concat([comfort,aquality],axis=1)\n",
    "consumption = pd.read_csv('comsuption_data.csv')"
   ]
  },
  {
   "cell_type": "code",
   "execution_count": 20,
   "id": "1e598331-30d0-455e-b855-37caef82cc5b",
   "metadata": {},
   "outputs": [],
   "source": [
    "for zone in zone:\n",
    "    name = zone\n",
    "    Vars = vars()\n",
    "    Vars[name] = building.filter(like=zone)\n",
    "    Vars[name].to_csv('spaces/'+zone+'.csv',index=False)"
   ]
  },
  {
   "cell_type": "code",
   "execution_count": 21,
   "id": "a8adafb3-db90-4e85-a28e-35cfb0c50f14",
   "metadata": {},
   "outputs": [],
   "source": [
    "for zone in type:\n",
    "    name = zone\n",
    "    Vars = vars()\n",
    "    Vars[name] = consumption.filter(like=zone)\n",
    "    Vars[name].to_csv('spaces/'+zone+'.csv',index=False)"
   ]
  },
  {
   "cell_type": "code",
   "execution_count": null,
   "id": "95d0ef08-0e1e-4e26-a5b7-ba1ba509d6f5",
   "metadata": {},
   "outputs": [],
   "source": [
    "comfort.to_csv()"
   ]
  },
  {
   "cell_type": "code",
   "execution_count": 22,
   "id": "307cb483-36e0-4227-9253-9aaed73d3cec",
   "metadata": {},
   "outputs": [
    {
     "name": "stdout",
     "output_type": "stream",
     "text": [
      "<class 'pandas.core.frame.DataFrame'>\n",
      "RangeIndex: 105120 entries, 0 to 105119\n",
      "Data columns (total 14 columns):\n",
      " #   Column         Non-Null Count   Dtype  \n",
      "---  ------         --------------   -----  \n",
      " 0   water_PBBAÑOH  105120 non-null  float64\n",
      " 1   water_PBBAÑOM  105120 non-null  float64\n",
      " 2   water_N1BAÑOH  105120 non-null  float64\n",
      " 3   water_N1BAÑOM  105120 non-null  float64\n",
      " 4   water_N2BAÑOH  105120 non-null  float64\n",
      " 5   water_N2BAÑOM  105120 non-null  float64\n",
      " 6   water_N1LAB    105120 non-null  float64\n",
      " 7   water_N2LAB1   105120 non-null  float64\n",
      " 8   water_N2LAB2   105120 non-null  float64\n",
      " 9   water_PBCAFE   105120 non-null  float64\n",
      " 10  water_PBBEB1   105120 non-null  float64\n",
      " 11  water_PBBEB2   105120 non-null  float64\n",
      " 12  water_N1BEB    105120 non-null  float64\n",
      " 13  water_N2BEB    105120 non-null  float64\n",
      "dtypes: float64(14)\n",
      "memory usage: 11.2 MB\n"
     ]
    }
   ],
   "source": [
    "test = pd.read_csv('spaces/water.csv')\n",
    "test.info()"
   ]
  }
 ],
 "metadata": {
  "kernelspec": {
   "display_name": "Python 3 (ipykernel)",
   "language": "python",
   "name": "python3"
  },
  "language_info": {
   "codemirror_mode": {
    "name": "ipython",
    "version": 3
   },
   "file_extension": ".py",
   "mimetype": "text/x-python",
   "name": "python",
   "nbconvert_exporter": "python",
   "pygments_lexer": "ipython3",
   "version": "3.10.11"
  }
 },
 "nbformat": 4,
 "nbformat_minor": 5
}
